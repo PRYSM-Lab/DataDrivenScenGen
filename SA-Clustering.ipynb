{
 "cells": [
  {
   "cell_type": "code",
   "execution_count": 1,
   "metadata": {},
   "outputs": [],
   "source": [
    "import numpy as np\n",
    "from numpy import linspace, ndarray,cov\n",
    "import pandas as pd\n",
    "from pandas import Series, DataFrame\n",
    "\n",
    "import scipy\n",
    "from scipy import stats, optimize\n",
    "from scipy.stats import kurtosis, skew, norm\n",
    "from scipy.stats.kde import gaussian_kde\n",
    "from scipy.optimize import curve_fit\n",
    "\n",
    "import pwlf\n",
    "\n",
    "import seaborn as sb\n",
    "\n",
    "import dc_stat_think as dcst\n",
    "\n",
    "from matplotlib import pyplot as plt\n",
    "\n",
    "import statsmodels\n",
    "from statsmodels.distributions.empirical_distribution import ECDF"
   ]
  },
  {
   "cell_type": "code",
   "execution_count": 2,
   "metadata": {},
   "outputs": [
    {
     "name": "stdout",
     "output_type": "stream",
     "text": [
      "          k7         k8\n",
      "0  17.402617  11.536782\n",
      "1  15.633147  10.782971\n",
      "2  17.692430  10.856737\n",
      "3  16.149050   9.884377\n",
      "4  15.740754  13.450618\n",
      "5  14.365423   9.818110\n",
      "            k7         k8\n",
      "0    17.402617  11.536782\n",
      "1    15.633147  10.782971\n",
      "2    17.692430  10.856737\n",
      "3    16.149050   9.884377\n",
      "4    15.740754  13.450618\n",
      "..         ...        ...\n",
      "995  16.778541  10.969624\n",
      "996  16.053320  11.631006\n",
      "997  15.143639  14.131023\n",
      "998  17.143873   9.138698\n",
      "999  16.627936  11.440354\n",
      "\n",
      "[1000 rows x 2 columns]\n",
      "0      17.402617\n",
      "1      15.633147\n",
      "2      17.692430\n",
      "3      16.149050\n",
      "4      15.740754\n",
      "         ...    \n",
      "995    16.778541\n",
      "996    16.053320\n",
      "997    15.143639\n",
      "998    17.143873\n",
      "999    16.627936\n",
      "Name: k7, Length: 1000, dtype: float64\n"
     ]
    }
   ],
   "source": [
    "address = r'exportmc.csv'\n",
    "\n",
    "p = pd.read_csv(address)\n",
    "p.columns = ['k7','k8']\n",
    "#p.columns = ['x','v']\n",
    "\n",
    "head = p.head(6)\n",
    "print(head)\n",
    "\n",
    "a = ['k7','k8']\n",
    "\n",
    "pv = p[a]\n",
    "\n",
    "pp = p.k7\n",
    "\n",
    "print(pv)\n",
    "print(pp)"
   ]
  },
  {
   "cell_type": "code",
   "execution_count": null,
   "metadata": {},
   "outputs": [],
   "source": [
    "########################\n",
    "### Statistical Analysis\n",
    "########################"
   ]
  },
  {
   "cell_type": "code",
   "execution_count": 3,
   "metadata": {},
   "outputs": [
    {
     "name": "stdout",
     "output_type": "stream",
     "text": [
      "k7    2.727530\n",
      "k8    2.470401\n",
      "dtype: float64\n",
      "k7   -0.865585\n",
      "k8    0.716910\n",
      "dtype: float64\n",
      "k7    0.979497\n",
      "k8    0.206246\n",
      "dtype: float64\n"
     ]
    }
   ],
   "source": [
    "maxp = pv.max()\n",
    "minp = pv.min()\n",
    "\n",
    "# First Four moments Calculation\n",
    "mean = pv.mean()\n",
    "var = pv.var()\n",
    "skew = pv.skew()\n",
    "kurt = pv.kurt()\n",
    "# covar = np.cov(wind_speed,wind_speed2)\n",
    "\n",
    "print(var)\n",
    "print(skew)\n",
    "print(kurt)\n",
    "\n",
    "# Printing first Four moments Calculation\n",
    "#print('Maximum Value: %0.5f' % maxp)\n",
    "#print('Minimum Value: %0.5f' % minp)\n",
    "#print('First 4 Moments:')\n",
    "#print('Mean/Expected Value: %0.5f' % mean)\n",
    "#print('Variance: %0.5f' % var)\n",
    "#print('Skewness: %0.5f' % skew)\n",
    "#print('Kurtosis: %0.5f' % kurt)\n",
    "#print(covar)"
   ]
  },
  {
   "cell_type": "code",
   "execution_count": 4,
   "metadata": {},
   "outputs": [
    {
     "name": "stdout",
     "output_type": "stream",
     "text": [
      "[[ 2.72753014 -0.01489189]\n",
      " [-0.01489189  2.47040096]]\n"
     ]
    }
   ],
   "source": [
    "p7 = p.k7\n",
    "p8 = p.k8\n",
    "\n",
    "covar = np.cov(p7,p8)\n",
    "\n",
    "print(covar)"
   ]
  },
  {
   "cell_type": "code",
   "execution_count": 5,
   "metadata": {},
   "outputs": [
    {
     "name": "stdout",
     "output_type": "stream",
     "text": [
      "[[ 1.         -0.00573695]\n",
      " [-0.00573695  1.        ]]\n"
     ]
    }
   ],
   "source": [
    "cor78 = np.corrcoef(p7,p8)\n",
    "print(cor78)"
   ]
  },
  {
   "cell_type": "code",
   "execution_count": 6,
   "metadata": {},
   "outputs": [
    {
     "data": {
      "text/plain": [
       "-0.014877000383937217"
      ]
     },
     "execution_count": 6,
     "metadata": {},
     "output_type": "execute_result"
    }
   ],
   "source": [
    "test= sum((p7[:]-mean[0])*(p8[:]-mean[1])*(1/1000))\n",
    "test"
   ]
  },
  {
   "cell_type": "code",
   "execution_count": 7,
   "metadata": {},
   "outputs": [
    {
     "name": "stdout",
     "output_type": "stream",
     "text": [
      "2.724802612967649\n",
      "2.467930557642143\n"
     ]
    }
   ],
   "source": [
    "test1= sum((p7[:]-mean[0])**2*(1/1000))\n",
    "test2= sum((p8[:]-mean[1])**2*(1/1000))\n",
    "print(test1)\n",
    "print(test2)"
   ]
  },
  {
   "cell_type": "code",
   "execution_count": 8,
   "metadata": {},
   "outputs": [
    {
     "name": "stdout",
     "output_type": "stream",
     "text": [
      "k7   -0.865585\n",
      "k8    0.716910\n",
      "dtype: float64\n"
     ]
    },
    {
     "data": {
      "text/plain": [
       "-0.8629898362197712"
      ]
     },
     "execution_count": 8,
     "metadata": {},
     "output_type": "execute_result"
    }
   ],
   "source": [
    "test3= sum(((p7[:]-mean[0])**3)*(1/1000))/(var[0]**(3/2))\n",
    "print(skew)\n",
    "test3"
   ]
  },
  {
   "cell_type": "code",
   "execution_count": 9,
   "metadata": {},
   "outputs": [
    {
     "name": "stdout",
     "output_type": "stream",
     "text": [
      "0.9794970770524225\n"
     ]
    },
    {
     "data": {
      "text/plain": [
       "3.9606791809999735"
      ]
     },
     "execution_count": 9,
     "metadata": {},
     "output_type": "execute_result"
    }
   ],
   "source": [
    "test4= sum(((p7[:]-mean[0])**4)*(1/1000))/(var[0]**(4/2))\n",
    "print(kurt[0])\n",
    "test4"
   ]
  },
  {
   "cell_type": "code",
   "execution_count": 10,
   "metadata": {},
   "outputs": [
    {
     "name": "stdout",
     "output_type": "stream",
     "text": [
      "-3.8874070610408813\n",
      "-3.8990965525052905\n"
     ]
    }
   ],
   "source": [
    "test5= sum(((p7[:]-mean[0])**3)*(1/1000))\n",
    "test6 = (skew[0])*(var[0]**(3/2))\n",
    "print(test5)\n",
    "print(test6)"
   ]
  },
  {
   "cell_type": "code",
   "execution_count": 11,
   "metadata": {},
   "outputs": [
    {
     "name": "stdout",
     "output_type": "stream",
     "text": [
      "29.465158612225835\n",
      "29.605152857302205\n"
     ]
    }
   ],
   "source": [
    "test7= sum(((p7[:]-mean[0])**4)*(1/1000))\n",
    "test8 = (kurt[0] + 3)*(var[0]**(4/2))\n",
    "print(test7)\n",
    "print(test8)"
   ]
  },
  {
   "cell_type": "code",
   "execution_count": 12,
   "metadata": {},
   "outputs": [
    {
     "name": "stdout",
     "output_type": "stream",
     "text": [
      "1.6515235823659193\n",
      "1.5717509212978826\n"
     ]
    }
   ],
   "source": [
    "test11 = (var[0]**(1/2) )\n",
    "test12 = (var[1]**(1/2) )\n",
    "print(test11)\n",
    "print(test12)"
   ]
  },
  {
   "cell_type": "code",
   "execution_count": 13,
   "metadata": {},
   "outputs": [
    {
     "name": "stdout",
     "output_type": "stream",
     "text": [
      "176.06410254688785\n",
      "-0.005731217248380725\n"
     ]
    }
   ],
   "source": [
    "test9 = sum((p7[:]*p8[:])*(1/1000))\n",
    "test10 = ( sum((p7[:]*p8[:])*(1/1000)) - (mean[0]*mean[1]) ) / ((var[0]**(1/2))*(var[1]**(1/2)))\n",
    "print(test9)\n",
    "print(test10)"
   ]
  },
  {
   "cell_type": "code",
   "execution_count": 14,
   "metadata": {},
   "outputs": [
    {
     "name": "stdout",
     "output_type": "stream",
     "text": [
      "-0.014877000384018402\n"
     ]
    }
   ],
   "source": [
    "test10 = ( sum((p7[:]*p8[:])*(1/1000)) - (mean[0]*mean[1]) )\n",
    "print(test10)"
   ]
  },
  {
   "cell_type": "code",
   "execution_count": 15,
   "metadata": {},
   "outputs": [
    {
     "name": "stdout",
     "output_type": "stream",
     "text": [
      "176.07897954727187\n"
     ]
    }
   ],
   "source": [
    "test13 = (mean[0]*mean[1])\n",
    "print(test13)"
   ]
  },
  {
   "cell_type": "code",
   "execution_count": 16,
   "metadata": {},
   "outputs": [
    {
     "name": "stdout",
     "output_type": "stream",
     "text": [
      "MM('i1','m1')= 15.9376700 ;\n",
      "MM('i1','m2')= 2.7275301 ;\n",
      "MM('i1','m3')= -0.8655849*rpower(MM('i1','m2'),1.5) ;\n",
      "MM('i1','m4')= (0.9794971+3)*rpower(MM('i1','m2'),1.5) ;\n",
      "MM('i2','m1')= 11.0479750 ;\n",
      "MM('i2','m2')= 2.4704010 ;\n",
      "MM('i2','m3')= 0.7169101*rpower(MM('i2','m2'),1.5) ;\n",
      "MM('i2','m4')= (0.2062456+3)*rpower(MM('i2','m2'),1.5) ;\n"
     ]
    }
   ],
   "source": [
    "i=1\n",
    "for x in a:\n",
    "    print('MM(\\'i%d\\',\\'m1\\')= %0.7f ;' %(i,mean[x]))\n",
    "    print('MM(\\'i%d\\',\\'m2\\')= %0.7f ;' %(i,var[x]))\n",
    "    print('MM(\\'i%d\\',\\'m3\\')= %0.7f*rpower(MM(\\'i%d\\',\\'m2\\'),1.5) ;' %(i,skew[x],i))\n",
    "    print('MM(\\'i%d\\',\\'m4\\')= (%0.7f+3)*rpower(MM(\\'i%d\\',\\'m2\\'),1.5) ;' %(i,kurt[x],i))\n",
    "    i = i + 1\n",
    "    "
   ]
  },
  {
   "cell_type": "code",
   "execution_count": null,
   "metadata": {},
   "outputs": [],
   "source": [
    "########################\n",
    "### Trivial Histograms\n",
    "########################"
   ]
  },
  {
   "cell_type": "code",
   "execution_count": 17,
   "metadata": {},
   "outputs": [],
   "source": [
    "def plothist(p,x):\n",
    "    plt.xlabel('Yield', size = 14)\n",
    "    plt.ylabel('Freequency', size = 14)\n",
    "    txt = 'Process {}'.format(x)\n",
    "    plt.title(txt, size = 14)\n",
    "    plt.hist(p,bins='auto',color = 'gray',rwidth=150)"
   ]
  },
  {
   "cell_type": "code",
   "execution_count": 18,
   "metadata": {},
   "outputs": [
    {
     "data": {
      "image/png": "[encoded data removed]",
      "text/plain": [
       "<Figure size 1008x1008 with 2 Axes>"
      ]
     },
     "metadata": {
      "needs_background": "light"
     },
     "output_type": "display_data"
    }
   ],
   "source": [
    "plt.rcParams[\"figure.figsize\"] = (14,14)\n",
    "\n",
    "ii = 1\n",
    "for x in ['k7','k8']:\n",
    "    plt.subplot(2, 2,ii)\n",
    "    a = x\n",
    "    p = pv[x]\n",
    "    plothist(p,x)\n",
    "    ii = ii + 1\n",
    "    \n",
    "plt.subplots_adjust(left=0.1,\n",
    "                    bottom=0.1, \n",
    "                    right=0.9, \n",
    "                    top=0.9, \n",
    "                    wspace=0.3, \n",
    "                    hspace=0.3)\n",
    "    \n",
    "plt.show()"
   ]
  },
  {
   "cell_type": "code",
   "execution_count": 19,
   "metadata": {},
   "outputs": [],
   "source": [
    "def plotkde(x):\n",
    "    p1 = pv[x]\n",
    "    mean1 = mean[x]\n",
    "    var1 = var[x]\n",
    "    skew1 = skew[x]\n",
    "    kurt1 = kurt[x] \n",
    "    kde = gaussian_kde(p1)\n",
    "    dist_space = linspace( min(p1), max(p1), 300 )\n",
    "    plt.plot( dist_space, kde(dist_space), color = 'gray' )\n",
    "    txt = 'Process {}'.format(x)\n",
    "    plt.xlabel('Yield constant', size = 11)\n",
    "    plt.ylabel('Density', size = 11)\n",
    "    plt.title(txt, size = 11)\n",
    "    plt.annotate('Mean = %0.3f'% mean1,(9,0.20))\n",
    "    plt.annotate('Variance = %0.3f'% var1,(9,0.18))\n",
    "    plt.annotate('Skewness = %0.3f'% skew1,(9,0.16))\n",
    "    plt.annotate('Kurtosis = %0.3f'% kurt1,(9,0.14))\n",
    "    plt.hist(p1, bins=10, density=True, color='salmon')\n",
    "    plt.show\n",
    "    "
   ]
  },
  {
   "cell_type": "code",
   "execution_count": 20,
   "metadata": {},
   "outputs": [
    {
     "data": {
      "image/png": "[encoded data removed]",
      "text/plain": [
       "<Figure size 1008x1008 with 2 Axes>"
      ]
     },
     "metadata": {
      "needs_background": "light"
     },
     "output_type": "display_data"
    }
   ],
   "source": [
    "plt.rcParams[\"figure.figsize\"] = (14,14)\n",
    "\n",
    "ii = 1\n",
    "for x in ['k7','k8']:\n",
    "    plt.subplot(2,2,ii)\n",
    "    plotkde(x)\n",
    "    ii = ii + 1\n",
    "    \n",
    "plt.subplots_adjust(left=0.1,\n",
    "                    bottom=0.1, \n",
    "                    right=0.9, \n",
    "                    top=0.9, \n",
    "                    wspace=0.3, \n",
    "                    hspace=0.3)\n",
    "    \n",
    "plt.show()"
   ]
  },
  {
   "cell_type": "code",
   "execution_count": null,
   "metadata": {},
   "outputs": [],
   "source": [
    "########################\n",
    "###       ECDF\n",
    "########################"
   ]
  },
  {
   "cell_type": "code",
   "execution_count": 22,
   "metadata": {},
   "outputs": [],
   "source": [
    "pk7 = pv['k7']\n",
    "pk8 = pv['k8']\n",
    "\n",
    "ecdfk7 = ECDF(pk7)\n",
    "ecdfk7x = pd.DataFrame(ecdfk7.x)\n",
    "ecdfk7y = pd.DataFrame(ecdfk7.y)\n",
    "\n",
    "ecdfk8 = ECDF(pk8)\n",
    "ecdfk8x = pd.DataFrame(ecdfk8.x)\n",
    "ecdfk8y = pd.DataFrame(ecdfk8.y)\n"
   ]
  },
  {
   "cell_type": "code",
   "execution_count": 23,
   "metadata": {},
   "outputs": [],
   "source": [
    "address1 = r\"ecdf-data.xlsx\"\n",
    "\n",
    "for x in ['k7','k8']:\n",
    "    address1 = r\"ecdf-data{}.xlsx\".format(x)\n",
    "    p1 = pv[x]\n",
    "    ecdfk = ECDF(p1)\n",
    "    ecdfkx = pd.DataFrame(ecdfk.x)\n",
    "    ecdfky = pd.DataFrame(ecdfk.y)\n",
    "    txtx = 'ecdf{}x'.format(x)\n",
    "    txty = 'ecdf{}y'.format(x)\n",
    "    with pd.ExcelWriter(address1) as writer:  \n",
    "        ecdfkx.to_excel(writer, sheet_name=txtx)\n",
    "        ecdfky.to_excel(writer, sheet_name=txty)\n",
    "    "
   ]
  },
  {
   "cell_type": "code",
   "execution_count": null,
   "metadata": {},
   "outputs": [],
   "source": [
    "########################\n",
    "### Simplified GLF\n",
    "########################"
   ]
  },
  {
   "cell_type": "code",
   "execution_count": 32,
   "metadata": {},
   "outputs": [],
   "source": [
    "xe = ecdfk7x.to_numpy()\n",
    "ye = ecdfk7y.to_numpy()\n",
    "\n",
    "xef = np.delete(xe, [0])\n",
    "yef = np.delete(ye, [0])"
   ]
  },
  {
   "cell_type": "code",
   "execution_count": 33,
   "metadata": {},
   "outputs": [
    {
     "name": "stdout",
     "output_type": "stream",
     "text": [
      "[59.32964915  1.79238162  2.93850822]\n"
     ]
    },
    {
     "data": {
      "image/png": "[encoded data removed]",
      "text/plain": [
       "<Figure size 1008x1008 with 1 Axes>"
      ]
     },
     "metadata": {
      "needs_background": "light"
     },
     "output_type": "display_data"
    }
   ],
   "source": [
    "# define the true objective function\n",
    "def objective(x, b2, b3, b4):\n",
    "    return 1/((1+b2*(np.exp(-b3*(x-15))))**(1/b4))\n",
    "#    return ((1+b2*(np.exp(-b3*x)))**(1/b4))**(-1)\n",
    "\n",
    "\n",
    "popt, pcov = curve_fit(objective, xef, yef, maxfev = 10000)            \n",
    "print(popt)\n",
    "              \n",
    "# summarize the parameter values\n",
    "b2, b3, b4 = popt\n",
    "x_line = np.arange(min(xef), max(xef),0.001)\n",
    "# calculate the output for the range\n",
    "y_line = objective(x_line, b2, b3, b4)\n",
    "# create a line plot for the mapping function\n",
    "plt.xlabel('Yield constant of processes k', size = 11)\n",
    "plt.ylabel('Cumulative Probability', size = 11)\n",
    "plt.plot(xe, ye, 'o',markerfacecolor='none',\n",
    "                           markerfacecoloralt='lightsteelblue',\n",
    "                           markeredgecolor='b', lw = 0.2, label=\"ECDF\")\n",
    "plt.plot(x_line, y_line, color='red', label=\"Simplified GLF\")\n",
    "plt.legend(loc='upper left', frameon=True)\n",
    "plt.annotate('β2 = %.4e'% b2,(5.2,0.75))\n",
    "plt.annotate('β3 = %0.3f'% b3,(5.2,0.65))\n",
    "plt.annotate('β4 = %0.3f'% b4,(5.2,0.55))\n",
    "plt.show()"
   ]
  },
  {
   "cell_type": "code",
   "execution_count": 34,
   "metadata": {},
   "outputs": [],
   "source": [
    "xe = ecdfk8x.to_numpy()\n",
    "ye = ecdfk8y.to_numpy()\n",
    "\n",
    "xef = np.delete(xe, [0])\n",
    "yef = np.delete(ye, [0])"
   ]
  },
  {
   "cell_type": "code",
   "execution_count": 35,
   "metadata": {},
   "outputs": [
    {
     "name": "stderr",
     "output_type": "stream",
     "text": [
      "<ipython-input-35-77d6f6df14e1>:3: RuntimeWarning: invalid value encountered in power\n",
      "  return 1/((1+b2*(np.exp(-b3*(x-15))))**(1/b4))\n"
     ]
    },
    {
     "name": "stdout",
     "output_type": "stream",
     "text": [
      "[0.00808351 1.18779149 1.01347431]\n"
     ]
    },
    {
     "data": {
      "image/png": "[encoded data removed]",
      "text/plain": [
       "<Figure size 1008x1008 with 1 Axes>"
      ]
     },
     "metadata": {
      "needs_background": "light"
     },
     "output_type": "display_data"
    }
   ],
   "source": [
    "# define the true objective function\n",
    "def objective(x, b2, b3, b4):\n",
    "    return 1/((1+b2*(np.exp(-b3*(x-15))))**(1/b4))\n",
    "#    return ((1+b2*(np.exp(-b3*x)))**(1/b4))**(-1)\n",
    "\n",
    "\n",
    "popt, pcov = curve_fit(objective, xef, yef, maxfev = 10000)            \n",
    "print(popt)\n",
    "              \n",
    "# summarize the parameter values\n",
    "b2, b3, b4 = popt\n",
    "x_line = np.arange(min(xef), max(xef),0.001)\n",
    "# calculate the output for the range\n",
    "y_line = objective(x_line, b2, b3, b4)\n",
    "# create a line plot for the mapping function\n",
    "plt.xlabel('Yield constant of processes k', size = 11)\n",
    "plt.ylabel('Cumulative Probability', size = 11)\n",
    "plt.plot(xe, ye, 'o',markerfacecolor='none',\n",
    "                           markerfacecoloralt='lightsteelblue',\n",
    "                           markeredgecolor='b', lw = 0.2, label=\"ECDF\")\n",
    "plt.plot(x_line, y_line, color='red', label=\"Simplified GLF\")\n",
    "plt.legend(loc='upper left', frameon=True)\n",
    "plt.annotate('β2 = %.4e'% b2,(5.2,0.75))\n",
    "plt.annotate('β3 = %0.3f'% b3,(5.2,0.65))\n",
    "plt.annotate('β4 = %0.3f'% b4,(5.2,0.55))\n",
    "plt.show()"
   ]
  },
  {
   "cell_type": "code",
   "execution_count": null,
   "metadata": {},
   "outputs": [],
   "source": [
    "########################\n",
    "### Kmeans Clustering\n",
    "########################"
   ]
  },
  {
   "cell_type": "code",
   "execution_count": 26,
   "metadata": {},
   "outputs": [],
   "source": [
    "# Using scikit-learn to perform K-Means clustering\n",
    "from sklearn.cluster import KMeans\n"
   ]
  },
  {
   "cell_type": "code",
   "execution_count": 27,
   "metadata": {},
   "outputs": [],
   "source": [
    "# Specify the number of clusters (3) and fit the data X\n",
    "kmeans = KMeans(n_clusters=5, random_state=0).fit(pv)"
   ]
  },
  {
   "cell_type": "code",
   "execution_count": 28,
   "metadata": {},
   "outputs": [
    {
     "name": "stdout",
     "output_type": "stream",
     "text": [
      "[3 1 0 1 2 1 3 1 1 4 0 3 0 3 4 2 2 3 0 1 3 1 4 1 4 3 3 0 0 2 0 0 0 0 3 1 3\n",
      " 3 2 0 0 3 4 0 0 2 4 0 2 3 3 0 3 3 3 0 1 1 3 3 0 4 1 4 0 2 0 0 4 0 0 0 1 3\n",
      " 0 0 0 3 0 3 4 2 0 2 3 4 3 0 3 3 1 3 3 4 4 1 2 4 1 2 3 1 0 1 3 3 4 1 1 0 4\n",
      " 4 1 3 3 1 2 1 0 2 1 2 0 4 3 4 0 4 0 4 3 3 4 3 3 3 1 0 3 0 0 4 1 3 3 0 3 3\n",
      " 1 0 2 0 1 0 1 4 1 1 3 0 1 0 3 0 3 3 3 1 0 1 3 3 1 0 4 1 4 3 0 1 1 4 0 0 1\n",
      " 4 3 3 1 2 2 4 2 2 2 0 2 0 1 3 0 1 4 1 0 1 3 3 3 1 0 3 0 4 1 3 0 4 3 4 3 3\n",
      " 0 2 1 1 1 3 3 3 1 1 4 3 1 4 4 4 3 4 3 4 3 0 1 3 0 2 1 0 0 0 3 4 0 4 4 1 4\n",
      " 0 1 0 2 0 1 1 3 3 3 4 4 2 3 1 4 3 4 3 3 1 4 0 4 1 1 3 1 0 3 4 3 0 1 1 2 4\n",
      " 0 4 0 4 4 3 4 0 0 2 0 4 3 3 3 3 1 2 3 3 3 0 1 3 0 1 1 4 1 4 1 1 1 2 4 3 4\n",
      " 3 0 0 3 4 3 2 0 4 1 3 0 1 0 3 0 4 2 1 4 2 2 4 1 3 4 0 3 0 0 0 3 2 0 3 3 3\n",
      " 0 3 0 3 3 1 3 1 2 1 0 3 3 0 3 0 4 3 1 1 3 3 1 1 3 2 0 4 4 0 3 3 3 2 3 3 3\n",
      " 1 0 3 0 0 1 0 3 4 3 4 0 3 3 0 0 3 2 0 1 0 3 1 4 0 4 0 4 0 3 0 1 1 4 2 4 3\n",
      " 1 3 3 3 1 4 3 2 0 3 3 3 4 2 4 4 3 2 0 0 1 0 0 0 1 1 1 1 4 0 2 4 0 4 0 3 4\n",
      " 2 3 3 2 4 3 4 0 0 4 3 3 0 3 1 0 3 0 1 3 0 1 1 0 3 0 1 3 0 2 2 4 0 3 2 1 1\n",
      " 1 0 4 3 1 3 1 2 3 4 3 0 0 0 0 1 4 1 0 0 1 1 0 3 0 0 0 1 0 2 2 0 4 3 0 2 0\n",
      " 3 3 0 2 0 4 1 0 3 4 0 3 3 3 2 3 3 3 3 0 1 3 0 0 1 0 3 2 0 3 0 3 2 3 2 3 1\n",
      " 4 4 3 2 1 3 3 2 3 4 2 1 1 4 3 4 1 3 2 3 4 3 4 2 2 4 4 4 1 4 1 3 0 1 4 3 3\n",
      " 3 0 1 1 3 0 3 0 1 1 0 0 3 1 3 1 3 3 4 2 0 3 3 4 0 2 3 0 1 3 1 1 0 3 1 3 3\n",
      " 1 3 3 4 3 0 0 2 0 1 0 4 0 1 3 1 0 4 0 3 3 1 3 3 3 0 0 3 0 3 4 4 3 0 1 3 0\n",
      " 0 3 0 3 1 0 4 3 2 3 4 3 1 2 1 2 2 0 0 2 2 3 4 0 0 0 4 4 3 4 0 0 3 2 0 1 1\n",
      " 2 2 3 2 3 0 1 2 1 1 0 1 3 1 0 3 1 0 2 1 0 1 4 1 1 3 4 1 1 3 2 1 3 3 0 3 4\n",
      " 0 4 2 1 4 2 3 2 0 3 1 3 2 3 0 1 0 4 0 4 0 3 1 3 2 4 2 3 3 3 0 3 3 3 1 4 1\n",
      " 1 0 2 3 3 3 2 0 3 1 1 3 3 3 0 0 0 1 1 0 0 0 0 3 2 0 1 0 3 0 1 4 1 4 3 3 3\n",
      " 3 1 4 0 1 3 2 2 0 0 4 3 4 3 1 1 3 0 2 1 3 2 3 0 3 0 4 4 1 2 4 1 0 0 4 3 0\n",
      " 0 3 3 2 3 3 3 0 2 3 0 0 2 0 0 1 3 3 3 4 0 3 4 4 1 1 4 4 3 4 1 3 1 1 3 3 2\n",
      " 0 0 2 3 3 3 0 0 4 0 0 0 2 1 2 0 3 3 4 0 3 4 0 3 3 0 0 2 4 1 1 2 3 4 2 0 2\n",
      " 3 2 3 1 1 1 2 0 2 1 3 0 1 1 3 4 1 4 3 0 0 1 3 3 3 4 2 0 4 4 4 4 0 3 3 2 0\n",
      " 3]\n"
     ]
    }
   ],
   "source": [
    "# Get the cluster labels\n",
    "print(kmeans.labels_)"
   ]
  },
  {
   "cell_type": "code",
   "execution_count": 29,
   "metadata": {},
   "outputs": [
    {
     "name": "stdout",
     "output_type": "stream",
     "text": [
      "[[17.42021614  9.83955726]\n",
      " [15.22732911  9.69422344]\n",
      " [16.50829032 14.04886545]\n",
      " [16.41950335 11.73257006]\n",
      " [13.13182786 11.2498701 ]]\n"
     ]
    }
   ],
   "source": [
    "print(kmeans.cluster_centers_)"
   ]
  },
  {
   "cell_type": "code",
   "execution_count": 30,
   "metadata": {},
   "outputs": [
    {
     "name": "stdout",
     "output_type": "stream",
     "text": [
      "[2 4 1 4 3 4 2 4 4 0 1 2 1 2 0 3 3 2 1 4 2 4 0 4 0 2 2 1 1 3 1 1 1 1 2 4 2\n",
      " 2 3 1 1 2 0 1 1 3 0 1 3 2 2 1 2 2 2 1 4 4 2 2 1 0 4 0 1 3 1 1 0 1 1 1 4 2\n",
      " 1 1 1 2 1 2 0 3 1 3 2 0 2 1 2 2 4 2 2 0 0 4 3 0 4 3 2 4 1 4 2 2 0 4 4 1 0\n",
      " 0 4 2 2 4 3 4 1 3 4 3 1 0 2 0 1 0 1 0 2 2 0 2 2 2 4 1 2 1 1 0 4 2 2 1 2 2\n",
      " 4 1 3 1 4 1 4 0 4 4 2 1 4 1 2 1 2 2 2 4 1 4 2 2 4 1 0 4 0 2 1 4 4 0 1 1 4\n",
      " 0 2 2 4 3 3 0 3 3 3 1 3 1 4 2 1 4 0 4 1 4 2 2 2 4 1 2 1 0 4 2 1 0 2 0 2 2\n",
      " 1 3 4 4 4 2 2 2 4 4 0 2 4 0 0 0 2 0 2 0 2 1 4 2 1 3 4 1 1 1 2 0 1 0 0 4 0\n",
      " 1 4 1 3 1 4 4 2 2 2 0 0 3 2 4 0 2 0 2 2 4 0 1 0 4 4 2 4 1 2 0 2 1 4 4 3 0\n",
      " 1 0 1 0 0 2 0 1 1 3 1 0 2 2 2 2 4 3 3 2 2 1 4 2 1 4 4 0 4 0 4 4 4 3 0 2 0\n",
      " 2 1 1 2 0 2 3 1 0 4 2 1 4 1 2 1 0 3 4 0 3 3 0 4 2 0 1 2 1 1 1 2 3 1 2 2 2\n",
      " 1 2 1 2 2 4 2 4 3 4 1 2 2 1 2 1 0 2 4 4 2 2 4 4 2 3 1 0 0 1 2 2 2 3 2 2 2\n",
      " 4 1 2 1 1 4 1 2 0 2 0 1 2 2 1 1 2 3 1 4 1 2 4 0 1 0 1 0 1 2 1 4 4 0 3 0 2\n",
      " 4 2 2 2 4 0 2 3 1 2 2 2 0 3 0 0 2 3 1 1 4 1 1 1 4 4 4 4 0 1 3 0 1 0 1 2 0\n",
      " 3 3 2 3 0 2 0 1 1 0 2 2 1 2 4 1 2 1 4 2 1 4 4 1 2 1 4 2 1 3 3 0 1 2 3 4 4\n",
      " 4 1 0 2 4 2 4 3 2 0 2 1 1 1 1 4 0 4 1 1 4 4 1 2 1 1 1 4 1 3 3 1 0 2 1 3 1\n",
      " 2 2 1 3 1 0 4 1 2 0 1 2 2 2 3 2 2 2 2 1 4 2 1 1 4 1 2 3 1 2 1 2 3 2 3 2 4\n",
      " 0 0 2 3 4 2 2 3 2 0 3 4 4 0 2 0 4 2 3 2 0 2 0 3 3 0 0 0 4 0 4 2 1 4 0 2 2\n",
      " 2 1 4 4 2 1 2 1 4 4 1 1 2 4 2 4 2 2 0 3 1 2 2 0 1 3 2 1 4 2 4 4 1 2 4 2 2\n",
      " 4 2 2 0 2 1 1 3 1 4 1 0 1 4 2 4 1 0 1 2 2 4 2 2 2 1 1 2 1 2 0 0 2 1 4 2 1\n",
      " 1 2 1 2 4 1 0 2 3 2 0 2 4 3 4 3 3 1 1 3 3 2 0 1 1 1 0 0 2 0 1 1 2 3 1 4 4\n",
      " 3 3 2 3 2 1 4 3 4 4 1 4 2 4 1 2 4 1 3 4 1 4 0 4 4 2 0 4 4 2 3 4 2 2 1 2 0\n",
      " 1 0 3 4 0 3 2 3 1 2 4 2 3 2 1 4 1 0 1 0 1 2 4 2 3 0 3 2 2 2 1 2 2 2 4 0 4\n",
      " 4 1 3 2 2 2 3 1 2 4 4 2 2 2 1 1 1 4 4 1 1 1 1 2 3 1 4 1 2 1 4 0 4 0 2 2 2\n",
      " 2 4 0 1 4 2 3 3 1 1 0 2 0 2 4 4 2 1 3 4 2 3 2 1 2 1 0 0 4 3 0 4 1 1 0 2 1\n",
      " 1 2 2 3 2 2 2 1 3 2 1 1 3 1 1 4 2 2 2 0 1 2 0 0 4 4 0 0 2 0 4 2 4 4 2 2 3\n",
      " 1 1 3 2 2 2 1 1 0 1 1 1 3 4 3 1 2 2 0 1 2 0 1 2 2 1 1 3 0 4 4 3 2 0 3 1 3\n",
      " 2 3 2 4 4 4 3 1 3 4 2 1 4 4 2 0 4 0 2 1 1 4 2 2 2 0 3 1 0 0 0 0 1 2 2 3 1\n",
      " 2]\n"
     ]
    }
   ],
   "source": [
    "#pe = pd.DataFrame(xe,pp)\n",
    "\n",
    "nc = 5\n",
    "\n",
    "# Specify the number of clusters (3) and fit the data X\n",
    "kmeans2 = KMeans(n_clusters=nc, n_init = 100, random_state=0, algorithm = 'full').fit(pv)\n",
    "\n",
    "# Get the cluster labels\n",
    "print(kmeans2.labels_)"
   ]
  },
  {
   "cell_type": "code",
   "execution_count": 31,
   "metadata": {},
   "outputs": [],
   "source": [
    "clustering_labels_final = pd.DataFrame(kmeans.labels_)\n",
    "\n",
    "filepath = r'clustering_labels.xlsx'\n",
    "\n",
    "clustering_labels_final.to_excel(filepath, index=False)"
   ]
  },
  {
   "cell_type": "code",
   "execution_count": null,
   "metadata": {},
   "outputs": [],
   "source": []
  },
  {
   "cell_type": "code",
   "execution_count": null,
   "metadata": {},
   "outputs": [],
   "source": []
  }
 ],
 "metadata": {
  "kernelspec": {
   "display_name": "Python 3.8.5 ('base')",
   "language": "python",
   "name": "python3"
  },
  "language_info": {
   "codemirror_mode": {
    "name": "ipython",
    "version": 3
   },
   "file_extension": ".py",
   "mimetype": "text/x-python",
   "name": "python",
   "nbconvert_exporter": "python",
   "pygments_lexer": "ipython3",
   "version": "3.8.5"
  },
  "vscode": {
   "interpreter": {
    "hash": "84f5f6dd37c8d181cf091026bcd42a49936b6293c7897a3a4dbe9ba292d4f017"
   }
  }
 },
 "nbformat": 4,
 "nbformat_minor": 4
}
